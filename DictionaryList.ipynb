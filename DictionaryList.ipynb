{
 "cells": [
  {
   "cell_type": "markdown",
   "metadata": {},
   "source": [
    "# Welcome to Jupyter!"
   ]
  },
  {
   "cell_type": "markdown",
   "metadata": {},
   "source": [
    "This repo contains an introduction to [Jupyter](https://jupyter.org) and [IPython](https://ipython.org).\n",
    "\n",
    "Outline of some basics:\n",
    "\n",
    "* [Notebook Basics](../examples/Notebook/Notebook%20Basics.ipynb)\n",
    "* [IPython - beyond plain python](../examples/IPython%20Kernel/Beyond%20Plain%20Python.ipynb)\n",
    "* [Markdown Cells](../examples/Notebook/Working%20With%20Markdown%20Cells.ipynb)\n",
    "* [Rich Display System](../examples/IPython%20Kernel/Rich%20Output.ipynb)\n",
    "* [Custom Display logic](../examples/IPython%20Kernel/Custom%20Display%20Logic.ipynb)\n",
    "* [Running a Secure Public Notebook Server](../examples/Notebook/Running%20the%20Notebook%20Server.ipynb#Securing-the-notebook-server)\n",
    "* [How Jupyter works](../examples/Notebook/Multiple%20Languages%2C%20Frontends.ipynb) to run code in different languages."
   ]
  },
  {
   "cell_type": "markdown",
   "metadata": {},
   "source": [
    "You can also get this tutorial and run it on your laptop:\n",
    "\n",
    "    git clone https://github.com/ipython/ipython-in-depth\n",
    "\n",
    "Install IPython and Jupyter:\n",
    "\n",
    "with [conda](https://www.anaconda.com/download):\n",
    "\n",
    "    conda install ipython jupyter\n",
    "\n",
    "with pip:\n",
    "\n",
    "    # first, always upgrade pip!\n",
    "    pip install --upgrade pip\n",
    "    pip install --upgrade ipython jupyter\n",
    "\n",
    "Start the notebook in the tutorial directory:\n",
    "\n",
    "    cd ipython-in-depth\n",
    "    jupyter notebook"
   ]
  },
  {
   "cell_type": "code",
   "execution_count": 1,
   "metadata": {},
   "outputs": [
    {
     "name": "stdout",
     "output_type": "stream",
     "text": [
      "Enter a key(int) to be added: 12\n",
      "Enter a value for the key to be added: 13\n",
      "Updated dictionary is\n",
      "{12: 13}\n"
     ]
    }
   ],
   "source": [
    "d = {}\n",
    "key_d = int(input(\"Enter a key(int) to be added: \"))\n",
    "value_d = int(input(\"Enter a value for the key to be added: \"))\n",
    "d.update({key_d:value_d})\n",
    "print(\"Updated dictionary is\")\n",
    "print(d)"
   ]
  },
  {
   "cell_type": "code",
   "execution_count": 2,
   "metadata": {},
   "outputs": [
    {
     "name": "stdout",
     "output_type": "stream",
     "text": [
      "{12: 23, 'Fahad': '19', 1: 2, 'Ahmed': '18'}\n"
     ]
    }
   ],
   "source": [
    "d1 = {12:23, 'Fahad':'19'}\n",
    "d2 = {1:2, 'Ahmed':'18'}\n",
    "\n",
    "d1.update(d2)\n",
    "print(d1)"
   ]
  },
  {
   "cell_type": "code",
   "execution_count": 4,
   "metadata": {},
   "outputs": [
    {
     "name": "stdout",
     "output_type": "stream",
     "text": [
      "Enter key to check: 5\n",
      "Key isn't present\n"
     ]
    }
   ],
   "source": [
    "d = {1:'Fahad', 2:'Ahmed', 3:'Ali', 4:'Umer'}\n",
    "key_d = int(input(\"Enter key to check: \"))\n",
    "if  key_d in d.keys():\n",
    "    print(\"Key is present and value of key is: \")\n",
    "    print(d.get(key_d))\n",
    "else:\n",
    "    print(\"Key isn't present\")"
   ]
  },
  {
   "cell_type": "code",
   "execution_count": 15,
   "metadata": {},
   "outputs": [
    {
     "name": "stdout",
     "output_type": "stream",
     "text": [
      "Enter a number: 3\n",
      "{1: 1, 2: 4, 3: 9}\n"
     ]
    }
   ],
   "source": [
    "numb = int(input(\"Enter a number: \"))\n",
    "Dict = {x: x**2 for x in range(1,numb+1)} \n",
    "print (Dict) "
   ]
  },
  {
   "cell_type": "code",
   "execution_count": 19,
   "metadata": {},
   "outputs": [
    {
     "name": "stdout",
     "output_type": "stream",
     "text": [
      "The sum of dictionary values is: \n"
     ]
    },
    {
     "data": {
      "text/plain": [
       "29"
      ]
     },
     "execution_count": 19,
     "metadata": {},
     "output_type": "execute_result"
    }
   ],
   "source": [
    "d = {'A':3,'B':5,'C':9,'D':12}\n",
    "print(\"The sum of dictionary values is: \")\n",
    "sum(d.values())"
   ]
  },
  {
   "cell_type": "code",
   "execution_count": 28,
   "metadata": {},
   "outputs": [
    {
     "name": "stdout",
     "output_type": "stream",
     "text": [
      "The multiplication of all item is: 1092\n"
     ]
    }
   ],
   "source": [
    "multiply = 1\n",
    "d = {'A':7, 'B':13, 'C':12}\n",
    "\n",
    "for i in d:\n",
    "    multiply = multiply * d[i]\n",
    "print(\"The multiplication of all item is:\", end = \" \")\n",
    "print(multiply)"
   ]
  },
  {
   "cell_type": "code",
   "execution_count": 3,
   "metadata": {},
   "outputs": [
    {
     "name": "stdout",
     "output_type": "stream",
     "text": [
      "Enter a key to delete: 2\n",
      "Updated dictionary:\n",
      "{1: 13, 6: 12}\n"
     ]
    }
   ],
   "source": [
    "d = {2:7, 1:13, 6:12}\n",
    "key_d = int(input(\"Enter a key to delete: \"))\n",
    "\n",
    "if key_d in d.keys():\n",
    "    del d[key_d]\n",
    "    print(\"Updated dictionary:\")\n",
    "    print(d)\n",
    "else:\n",
    "    print(\"Key is not found.\")"
   ]
  },
  {
   "cell_type": "code",
   "execution_count": 5,
   "metadata": {},
   "outputs": [
    {
     "name": "stdout",
     "output_type": "stream",
     "text": [
      "Enter number of elements to be added: 3\n",
      "Enter element: 1\n",
      "Enter element: 2\n",
      "Enter element: 3\n",
      "Enter value: 1\n",
      "Enter value: 4\n",
      "Enter value: 9\n",
      "{'1': '1', '2': '4', '3': '9'}\n"
     ]
    }
   ],
   "source": [
    "_key = []\n",
    "_value = []\n",
    "elements = int(input(\"Enter number of elements to be added: \"))\n",
    "for i in range(0,elements):\n",
    "    temp = input(\"Enter element: \")\n",
    "    _key.append(temp)\n",
    "for i in range(0,elements):\n",
    "    temp = input(\"Enter value: \")\n",
    "    _value.append(temp)\n",
    "d = dict (zip(_key,_value))\n",
    "print(d)"
   ]
  },
  {
   "cell_type": "code",
   "execution_count": 1,
   "metadata": {},
   "outputs": [
    {
     "name": "stdout",
     "output_type": "stream",
     "text": [
      "Enter a string: hey how are you hope you are fine\n",
      "{'hey': 1, 'how': 1, 'are': 2, 'you': 2, 'hope': 1, 'fine': 1}\n"
     ]
    }
   ],
   "source": [
    "string = input(\"Enter a string: \")\n",
    "l1 = []\n",
    "l1 = string.split()\n",
    "freq = [l1.count(i) for i in l1]\n",
    "d = dict(zip(l1,freq))\n",
    "print(d)"
   ]
  },
  {
   "cell_type": "code",
   "execution_count": 5,
   "metadata": {
    "scrolled": false
   },
   "outputs": [
    {
     "name": "stdout",
     "output_type": "stream",
     "text": [
      "Enter string:Hi bro how are you\n",
      "H : ['Hi']\n",
      "b : ['bro']\n",
      "h : ['how']\n",
      "a : ['are']\n",
      "y : ['you']\n"
     ]
    }
   ],
   "source": [
    "\n",
    "test_string=input(\"Enter string:\")\n",
    "l=test_string.split()\n",
    "d={}\n",
    "for word in l:\n",
    "    if(word[0] not in d.keys()):\n",
    "        d[word[0]]=[]\n",
    "        d[word[0]].append(word)\n",
    "    else:\n",
    "        if(word not in d[word[0]]):\n",
    "          d[word[0]].append(word)\n",
    "for k,v in d.items():\n",
    "        print(k,\":\",v)"
   ]
  },
  {
   "cell_type": "code",
   "execution_count": null,
   "metadata": {},
   "outputs": [],
   "source": []
  }
 ],
 "metadata": {
  "kernelspec": {
   "display_name": "Python 3",
   "language": "python",
   "name": "python3"
  },
  "language_info": {
   "codemirror_mode": {
    "name": "ipython",
    "version": 3
   },
   "file_extension": ".py",
   "mimetype": "text/x-python",
   "name": "python",
   "nbconvert_exporter": "python",
   "pygments_lexer": "ipython3",
   "version": "3.6.7"
  }
 },
 "nbformat": 4,
 "nbformat_minor": 2
}
