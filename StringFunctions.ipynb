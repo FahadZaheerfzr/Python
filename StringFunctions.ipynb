{
 "cells": [
  {
   "cell_type": "code",
   "execution_count": 1,
   "metadata": {},
   "outputs": [
    {
     "data": {
      "text/plain": [
       "['__add__',\n",
       " '__class__',\n",
       " '__contains__',\n",
       " '__delattr__',\n",
       " '__dir__',\n",
       " '__doc__',\n",
       " '__eq__',\n",
       " '__format__',\n",
       " '__ge__',\n",
       " '__getattribute__',\n",
       " '__getitem__',\n",
       " '__getnewargs__',\n",
       " '__gt__',\n",
       " '__hash__',\n",
       " '__init__',\n",
       " '__init_subclass__',\n",
       " '__iter__',\n",
       " '__le__',\n",
       " '__len__',\n",
       " '__lt__',\n",
       " '__mod__',\n",
       " '__mul__',\n",
       " '__ne__',\n",
       " '__new__',\n",
       " '__reduce__',\n",
       " '__reduce_ex__',\n",
       " '__repr__',\n",
       " '__rmod__',\n",
       " '__rmul__',\n",
       " '__setattr__',\n",
       " '__sizeof__',\n",
       " '__str__',\n",
       " '__subclasshook__',\n",
       " 'capitalize',\n",
       " 'casefold',\n",
       " 'center',\n",
       " 'count',\n",
       " 'encode',\n",
       " 'endswith',\n",
       " 'expandtabs',\n",
       " 'find',\n",
       " 'format',\n",
       " 'format_map',\n",
       " 'index',\n",
       " 'isalnum',\n",
       " 'isalpha',\n",
       " 'isdecimal',\n",
       " 'isdigit',\n",
       " 'isidentifier',\n",
       " 'islower',\n",
       " 'isnumeric',\n",
       " 'isprintable',\n",
       " 'isspace',\n",
       " 'istitle',\n",
       " 'isupper',\n",
       " 'join',\n",
       " 'ljust',\n",
       " 'lower',\n",
       " 'lstrip',\n",
       " 'maketrans',\n",
       " 'partition',\n",
       " 'replace',\n",
       " 'rfind',\n",
       " 'rindex',\n",
       " 'rjust',\n",
       " 'rpartition',\n",
       " 'rsplit',\n",
       " 'rstrip',\n",
       " 'split',\n",
       " 'splitlines',\n",
       " 'startswith',\n",
       " 'strip',\n",
       " 'swapcase',\n",
       " 'title',\n",
       " 'translate',\n",
       " 'upper',\n",
       " 'zfill']"
      ]
     },
     "execution_count": 1,
     "metadata": {},
     "output_type": "execute_result"
    }
   ],
   "source": [
    "my_Name = \"Fahad Zaheer\"\n",
    "dir(my_Name)"
   ]
  },
  {
   "cell_type": "code",
   "execution_count": 2,
   "metadata": {},
   "outputs": [
    {
     "name": "stdout",
     "output_type": "stream",
     "text": [
      "Fahad zaheer\n"
     ]
    }
   ],
   "source": [
    "#Capitalize: COnverts first character to Capital letter\n",
    "my_Name = \"Fahad Zaheer\"\n",
    "print(my_Name.capitalize())"
   ]
  },
  {
   "cell_type": "code",
   "execution_count": 3,
   "metadata": {},
   "outputs": [
    {
     "name": "stdout",
     "output_type": "stream",
     "text": [
      "fahad zaheer\n"
     ]
    }
   ],
   "source": [
    "#Casefold: Converts the string to lowercase.\n",
    "my_Name = \"Fahad Zaheer\"\n",
    "print(my_Name.casefold())"
   ]
  },
  {
   "cell_type": "code",
   "execution_count": 4,
   "metadata": {},
   "outputs": [
    {
     "name": "stdout",
     "output_type": "stream",
     "text": [
      "**Fahad Zaheer*\n"
     ]
    }
   ],
   "source": [
    "#center: Pads the string with a particular character into centre. It takes in two parameters(width, char)\n",
    "my_Name = \"Fahad Zaheer\"\n",
    "print(my_Name.center(15, '*'))"
   ]
  },
  {
   "cell_type": "code",
   "execution_count": 5,
   "metadata": {},
   "outputs": [
    {
     "name": "stdout",
     "output_type": "stream",
     "text": [
      "****Fahad Zaheer****\n"
     ]
    }
   ],
   "source": [
    "#center: Pads the string with a particular character into centre. It takes in two parameters(width, char)\n",
    "my_Name = \"Fahad Zaheer\"\n",
    "print(my_Name.center(20, '*'))"
   ]
  },
  {
   "cell_type": "code",
   "execution_count": 6,
   "metadata": {},
   "outputs": [
    {
     "name": "stdout",
     "output_type": "stream",
     "text": [
      "3\n",
      "2\n"
     ]
    }
   ],
   "source": [
    "#count: Counts the occurence of a character in a string, It can take arguements in the form of (\"string\", start, end)\n",
    "my_Name = \"Fahad Zaheer\"\n",
    "print(my_Name.count(\"a\"))\n",
    "\n",
    "# It can also count the occurence of a word\n",
    "my_Name = \"Fahad Zaheer\"\n",
    "print(my_Name.count(\"ah\"))"
   ]
  },
  {
   "cell_type": "code",
   "execution_count": 9,
   "metadata": {},
   "outputs": [
    {
     "name": "stdout",
     "output_type": "stream",
     "text": [
      "b'Fahad Zheer'\n",
      "b'Fahad Z?heer'\n"
     ]
    }
   ],
   "source": [
    "# encode: Can convert a string from one format to another e.g ASCII to UNICODE. It takes in two parameters (\"encoding\", \"errors\"), errors maybe ignored or replace\n",
    "my_Name = \"Fahad Zäheer\"\n",
    "print(my_Name.encode(\"ascii\", \"ignore\"))\n",
    "\n",
    "my_Name = \"Fahad Zäheer\"\n",
    "print(my_Name.encode(\"ascii\", \"replace\"))"
   ]
  },
  {
   "cell_type": "code",
   "execution_count": 10,
   "metadata": {},
   "outputs": [
    {
     "name": "stdout",
     "output_type": "stream",
     "text": [
      "True\n",
      "False\n"
     ]
    }
   ],
   "source": [
    "# endswith: Check if a String ends with a particular word. It takes in three parameters (\"String\", \"start\", \"ends\")\n",
    "my_Name = \"My name is Fahad Zaheer\"\n",
    "print(my_Name.endswith(\"Zaheer\"))\n",
    "print(my_Name.endswith(\"you\"))"
   ]
  },
  {
   "cell_type": "code",
   "execution_count": 12,
   "metadata": {},
   "outputs": [
    {
     "name": "stdout",
     "output_type": "stream",
     "text": [
      "My name is Fahad Zaheer\n",
      "My name is Fahad  Zaheer\n",
      "My name is Fahad    Zaheer\n"
     ]
    }
   ],
   "source": [
    "# expandtabs: Replaces tab character with spaces.\n",
    "\n",
    "#In this case no tab spaces are present\n",
    "my_Name = \"My name is Fahad Zaheer\"\n",
    "print(my_Name.expandtabs(3))\n",
    "\n",
    "\n",
    "my_Name = \"My name is Fahad\\tZaheer\"\n",
    "print(my_Name.expandtabs(3))\n",
    "\n",
    "my_Name = \"My name is Fahad\\tZaheer\"\n",
    "print(my_Name.expandtabs(5))"
   ]
  },
  {
   "cell_type": "code",
   "execution_count": 13,
   "metadata": {},
   "outputs": [
    {
     "name": "stdout",
     "output_type": "stream",
     "text": [
      "8\n"
     ]
    }
   ],
   "source": [
    "# find: Returns the index of first occurence of substring.\n",
    "my_Name = \"My name is Fahad Zaheer\"\n",
    "print(my_Name.find(\"is\"))"
   ]
  },
  {
   "cell_type": "code",
   "execution_count": 15,
   "metadata": {},
   "outputs": [
    {
     "name": "stdout",
     "output_type": "stream",
     "text": [
      "Hi there, you ok?\n",
      "Hi bro, you ok?\n"
     ]
    }
   ],
   "source": [
    "# format: Formats string into better output.\n",
    "print(\"Hi {2}, you {1}?\".format(\"bro\", \"ok\", \"there\"))\n",
    "print(\"Hi {}, you {}?\".format(\"bro\", \"ok\", \"there\"))"
   ]
  },
  {
   "cell_type": "code",
   "execution_count": 16,
   "metadata": {},
   "outputs": [
    {
     "name": "stdout",
     "output_type": "stream",
     "text": [
      "Hi, bro\n"
     ]
    }
   ],
   "source": [
    "# format_map: Format strings using dictionaries.\n",
    "\n",
    "dicti = {'a': \"Hi\", 'b': \"bro\"}\n",
    "print(\"{a}, {b}\".format_map(dicti))"
   ]
  },
  {
   "cell_type": "code",
   "execution_count": 17,
   "metadata": {},
   "outputs": [
    {
     "name": "stdout",
     "output_type": "stream",
     "text": [
      "8\n"
     ]
    }
   ],
   "source": [
    "# index: Returns the index of substring / returns the location of substring\n",
    "my_Name = \"My name is Fahad Zaheer\"\n",
    "print(my_Name.index('is'))"
   ]
  },
  {
   "cell_type": "code",
   "execution_count": 19,
   "metadata": {},
   "outputs": [
    {
     "name": "stdout",
     "output_type": "stream",
     "text": [
      "True\n",
      "False\n",
      "False\n",
      "True\n",
      "False\n"
     ]
    }
   ],
   "source": [
    "# isalnum: Checks the presence of alphabets and numbers\n",
    "my_Name = \"abc123\"\n",
    "print(my_Name.isalnum())\n",
    "\n",
    "my_Name = \"My name is Fahad Zaheer\"\n",
    "print(my_Name.isalnum())\n",
    "\n",
    "my_Name = \"My name is Fahad Zaheer 123\"\n",
    "print(my_Name.isalnum())\n",
    "\n",
    "my_Name = \"1234\"\n",
    "print(my_Name.isalnum())\n",
    "\n",
    "my_Name = \"My name is Fahad@Zaheer\"\n",
    "print(my_Name.isalnum())"
   ]
  },
  {
   "cell_type": "code",
   "execution_count": 1,
   "metadata": {},
   "outputs": [
    {
     "name": "stdout",
     "output_type": "stream",
     "text": [
      "False\n",
      "False\n",
      "True\n"
     ]
    }
   ],
   "source": [
    "# isalpha: Checks the presence of alphabets\n",
    "my_Name = \"abc123\"\n",
    "print(my_Name.isalpha())\n",
    "\n",
    "my_Name = \"My name is Fahad Zaheer\"\n",
    "print(my_Name.isalpha())\n",
    "\n",
    "my_Name = \"MynameisFahadZaheer\"\n",
    "print(my_Name.isalpha())"
   ]
  },
  {
   "cell_type": "code",
   "execution_count": 3,
   "metadata": {},
   "outputs": [
    {
     "name": "stdout",
     "output_type": "stream",
     "text": [
      "False\n",
      "False\n",
      "False\n",
      "True\n"
     ]
    }
   ],
   "source": [
    "# isdecimal: Check the presence of decimal characters\n",
    "my_Name = \"abc123\"\n",
    "print(my_Name.isdecimal())\n",
    "\n",
    "my_Name = \"My name is Fahad Zaheer\"\n",
    "print(my_Name.isdecimal())\n",
    "\n",
    "my_Name = \"MynameisFahadZaheer\"\n",
    "print(my_Name.isdecimal())\n",
    "\n",
    "my_Name = \"12345\"\n",
    "print(my_Name.isdecimal())"
   ]
  },
  {
   "cell_type": "code",
   "execution_count": 4,
   "metadata": {},
   "outputs": [
    {
     "name": "stdout",
     "output_type": "stream",
     "text": [
      "False\n",
      "True\n"
     ]
    }
   ],
   "source": [
    "# isdigit: Checks whether the string contains digits only\n",
    "\n",
    "my_Name = \"123abc\"\n",
    "print(my_Name.isdigit())\n",
    "\n",
    "my_Name = \"12345\"\n",
    "print(my_Name.isdigit())"
   ]
  },
  {
   "cell_type": "code",
   "execution_count": 5,
   "metadata": {},
   "outputs": [
    {
     "name": "stdout",
     "output_type": "stream",
     "text": [
      "True\n",
      "False\n",
      "False\n",
      "False\n"
     ]
    }
   ],
   "source": [
    "# isidentifier: Checks whether the string is a valid idnetifier in python\n",
    "\n",
    "string  = 'Python'\n",
    "print(string.isidentifier())\n",
    "\n",
    "string = 'Py thon'\n",
    "print(string.isidentifier())\n",
    "\n",
    "string = '22Python'\n",
    "print(string.isidentifier())\n",
    "\n",
    "string = ' '\n",
    "print(string.isidentifier())"
   ]
  },
  {
   "cell_type": "code",
   "execution_count": 7,
   "metadata": {},
   "outputs": [
    {
     "name": "stdout",
     "output_type": "stream",
     "text": [
      "True\n",
      "False\n"
     ]
    }
   ],
   "source": [
    "# islower: Check the case of the string\n",
    "my_Name = \"my name is fahad zaheer\"\n",
    "print(my_Name.islower())\n",
    "my_Name = \"my name is Fahad Zaheer\"\n",
    "print(my_Name.islower())"
   ]
  },
  {
   "cell_type": "code",
   "execution_count": 8,
   "metadata": {},
   "outputs": [
    {
     "name": "stdout",
     "output_type": "stream",
     "text": [
      "False\n",
      "True\n"
     ]
    }
   ],
   "source": [
    "# isnumeric:  Checks whether the string contains digits only\n",
    "\n",
    "my_Name = \"123abc\"\n",
    "print(my_Name.isnumeric())\n",
    "\n",
    "my_Name = \"12345\"\n",
    "print(my_Name.isnumeric())"
   ]
  },
  {
   "cell_type": "code",
   "execution_count": 10,
   "metadata": {
    "scrolled": true
   },
   "outputs": [
    {
     "name": "stdout",
     "output_type": "stream",
     "text": [
      "True\n",
      "True\n",
      "False\n"
     ]
    }
   ],
   "source": [
    "# isprintable: Checks whether the string isprintable\n",
    "\n",
    "my_Name = \"123abc\"\n",
    "print(my_Name.isprintable())\n",
    "\n",
    "my_Name = \"12345\"\n",
    "print(my_Name.isprintable())\n",
    "\n",
    "my_Name = \"My \\n name is Fahad\"\n",
    "print(my_Name.isprintable())"
   ]
  },
  {
   "cell_type": "code",
   "execution_count": 12,
   "metadata": {},
   "outputs": [
    {
     "name": "stdout",
     "output_type": "stream",
     "text": [
      "False\n",
      "False\n",
      "True\n"
     ]
    }
   ],
   "source": [
    "# isspace: Checks if the string contains space only\n",
    "\n",
    "my_Name = \"My name is Fahad\"\n",
    "print(my_Name.isspace())\n",
    "\n",
    "my_Name = \"MynameisFahad\"\n",
    "print(my_Name.isspace())\n",
    "\n",
    "my_Name = \" \"\n",
    "print(my_Name.isspace())"
   ]
  },
  {
   "cell_type": "code",
   "execution_count": 17,
   "metadata": {},
   "outputs": [
    {
     "name": "stdout",
     "output_type": "stream",
     "text": [
      "False\n",
      "True\n",
      "True\n"
     ]
    }
   ],
   "source": [
    "# istitle: Checks if the given string is a title\n",
    "\n",
    "my_Name = \"My name is fahad\"\n",
    "print(my_Name.istitle())\n",
    "\n",
    "my_Name = \"Mynameisfahad\"\n",
    "print(my_Name.istitle())\n",
    "\n",
    "my_Name = \"My Name Is Fahad\"\n",
    "print(my_Name.istitle())"
   ]
  },
  {
   "cell_type": "code",
   "execution_count": 18,
   "metadata": {},
   "outputs": [
    {
     "name": "stdout",
     "output_type": "stream",
     "text": [
      "True\n",
      "False\n"
     ]
    }
   ],
   "source": [
    "# isupper: Checks if the string contains uppercase only\n",
    "\n",
    "\n",
    "my_Name = \"MY NAME IS FAHAD\"\n",
    "print(my_Name.isupper())\n",
    "\n",
    "my_Name = \"My Name Is Fahad\"\n",
    "print(my_Name.isupper())"
   ]
  },
  {
   "cell_type": "code",
   "execution_count": 21,
   "metadata": {},
   "outputs": [
    {
     "name": "stdout",
     "output_type": "stream",
     "text": [
      "M y   n a m e   i s   F a h a d\n"
     ]
    }
   ],
   "source": [
    "# join: It returns a string concatenated with the elements of an iterable\n",
    "\n",
    "my_Name = \"My name is Fahad\"\n",
    "print(\" \".join(my_Name))"
   ]
  },
  {
   "cell_type": "code",
   "execution_count": 27,
   "metadata": {},
   "outputs": [
    {
     "name": "stdout",
     "output_type": "stream",
     "text": [
      "Fahad  -\n"
     ]
    }
   ],
   "source": [
    "# ljust: returns the string left justified in a string of length width\n",
    "first_name = \"Fahad\"\n",
    "print(first_name.ljust(6), \"-\")"
   ]
  },
  {
   "cell_type": "code",
   "execution_count": 28,
   "metadata": {},
   "outputs": [
    {
     "name": "stdout",
     "output_type": "stream",
     "text": [
      "my name is fahad\n"
     ]
    }
   ],
   "source": [
    "# lower: Change the string case to lower\n",
    "my_Name = \"My name is Fahad\"\n",
    "print(my_Name.lower())"
   ]
  },
  {
   "cell_type": "code",
   "execution_count": 37,
   "metadata": {},
   "outputs": [
    {
     "name": "stdout",
     "output_type": "stream",
     "text": [
      "My name is Fahad\n",
      "My name is Fahad         \n",
      "         My name is Fahad\n"
     ]
    }
   ],
   "source": [
    "# lstrip, rstrip, strip\n",
    "\n",
    "my_Name = \"         My name is Fahad    \"\n",
    "print(my_Name.strip())\n",
    "\n",
    "my_Name = \"          My name is Fahad         \"\n",
    "print(my_Name.lstrip())\n",
    "\n",
    "my_Name = \"         My name is Fahad      \"\n",
    "print(my_Name.rstrip())"
   ]
  },
  {
   "cell_type": "code",
   "execution_count": 5,
   "metadata": {},
   "outputs": [
    {
     "name": "stdout",
     "output_type": "stream",
     "text": [
      "My csme is Fshsd\n"
     ]
    }
   ],
   "source": [
    "# maketrans and translate:It forms a table for translate function to work on\n",
    "\n",
    "dict1 = {\"a\": \"s\", \"n\": \"c\"}\n",
    "my_Name = \"My name is Fahad\"\n",
    "table = my_Name.maketrans(dict1)\n",
    "print(my_Name.translate(table))"
   ]
  },
  {
   "cell_type": "code",
   "execution_count": 9,
   "metadata": {},
   "outputs": [
    {
     "name": "stdout",
     "output_type": "stream",
     "text": [
      "('My ', 'name', ' is Fahad')\n",
      "('My name is ', 'Fahad', '')\n"
     ]
    }
   ],
   "source": [
    "# partition & rpartition: Returns a Tuple\n",
    "my_Name = \"My name is Fahad\"\n",
    "print(my_Name.partition(\"name\"))\n",
    "\n",
    "my_Name = \"My name is Fahad\"\n",
    "print(my_Name.rpartition(\"Fahad\"))"
   ]
  },
  {
   "cell_type": "code",
   "execution_count": 11,
   "metadata": {},
   "outputs": [
    {
     "name": "stdout",
     "output_type": "stream",
     "text": [
      "My name is Babar. The meaning of my name is tiger.\n"
     ]
    }
   ],
   "source": [
    "#replace\n",
    "my_Name = \"My name is Fahad. The meaning of my name is tiger.\"\n",
    "print(my_Name.replace(\"Fahad\", \"Babar\", 2))"
   ]
  },
  {
   "cell_type": "code",
   "execution_count": 13,
   "metadata": {},
   "outputs": [
    {
     "name": "stdout",
     "output_type": "stream",
     "text": [
      "36\n",
      "36\n"
     ]
    }
   ],
   "source": [
    "# rfind or rindex: Returns the last index where the substring in a string is found.\n",
    "my_Name = \"My name is Fahad. The meaning of my name is tiger.\"\n",
    "print(my_Name.rfind(\"name\"))\n",
    "\n",
    "\n",
    "my_Name = \"My name is Fahad. The meaning of my name is tiger.\"\n",
    "print(my_Name.rindex(\"name\"))"
   ]
  },
  {
   "cell_type": "code",
   "execution_count": 19,
   "metadata": {},
   "outputs": [
    {
     "name": "stdout",
     "output_type": "stream",
     "text": [
      "                                                  My name is Fahad. The meaning of my name is tiger.\n"
     ]
    }
   ],
   "source": [
    "# rjust: Returns the string right justified in a string of length width\n",
    "\n",
    "my_Name = \"My name is Fahad. The meaning of my name is tiger.\"\n",
    "print(my_Name.rjust(100))"
   ]
  },
  {
   "cell_type": "code",
   "execution_count": 23,
   "metadata": {},
   "outputs": [
    {
     "name": "stdout",
     "output_type": "stream",
     "text": [
      "['My ', ' is Fahad. The meaning of my ', ' is tiger.']\n",
      "['My ', ' is Fahad. The meaning of my ', ' is tiger.']\n",
      "['My', 'name', 'is', 'Fahad.', 'The', 'meaning', 'of', 'my', 'name', 'is', 'tiger.']\n"
     ]
    }
   ],
   "source": [
    "# rsplit and split: It seperates the string and returns a list.\n",
    "\n",
    "\n",
    "my_Name = \"My name is Fahad. The meaning of my name is tiger.\"\n",
    "print(my_Name.rsplit(\"name\"))\n",
    "\n",
    "my_Name = \"My name is Fahad. The meaning of my name is tiger.\"\n",
    "print(my_Name.split(\"name\"))\n",
    "\n",
    "my_Name = \"My name is Fahad. The meaning of my name is tiger.\"\n",
    "print(my_Name.split())"
   ]
  },
  {
   "cell_type": "code",
   "execution_count": 24,
   "metadata": {},
   "outputs": [
    {
     "name": "stdout",
     "output_type": "stream",
     "text": [
      "['My name is Fahad.', ' The meaning of my name is tiger.']\n",
      "['My name is Fahad. The meaning of my name is tiger.']\n"
     ]
    }
   ],
   "source": [
    "# splitlines:\n",
    "my_Name = \"My name is Fahad.\\n The meaning of my name is tiger.\"\n",
    "print(my_Name.splitlines())\n",
    "\n",
    "my_Name = \"My name is Fahad. The meaning of my name is tiger.\"\n",
    "print(my_Name.splitlines())"
   ]
  },
  {
   "cell_type": "code",
   "execution_count": 28,
   "metadata": {},
   "outputs": [
    {
     "name": "stdout",
     "output_type": "stream",
     "text": [
      "True\n",
      "False\n"
     ]
    }
   ],
   "source": [
    "# startswith: Checks if the string begins with a character.\n",
    "\n",
    "my_Name = \"My name is Fahad. The meaning of my name is tiger.\"\n",
    "print(my_Name.startswith(\"My\"))\n",
    "\n",
    "my_Name = \" My name is Fahad. The meaning of my name is tiger.\"\n",
    "print(my_Name.startswith(\"name\"))"
   ]
  },
  {
   "cell_type": "code",
   "execution_count": 31,
   "metadata": {},
   "outputs": [
    {
     "name": "stdout",
     "output_type": "stream",
     "text": [
      "mY NAME IS fAHAD. tHE MEANING OF MY NAME IS TIGER.\n"
     ]
    }
   ],
   "source": [
    "# swapcase: Changes the case of string\n",
    "my_Name = \"My name is Fahad. The meaning of my name is tiger.\"\n",
    "print(my_Name.swapcase())"
   ]
  },
  {
   "cell_type": "code",
   "execution_count": 32,
   "metadata": {},
   "outputs": [
    {
     "name": "stdout",
     "output_type": "stream",
     "text": [
      "My Name Is Fahad. The Meaning Of My Name Is Tiger.\n"
     ]
    }
   ],
   "source": [
    "# title: Changes the string to title form.\n",
    "\n",
    "my_Name = \"My name is Fahad. The meaning of my name is tiger.\"\n",
    "print(my_Name.title())"
   ]
  },
  {
   "cell_type": "code",
   "execution_count": 33,
   "metadata": {},
   "outputs": [
    {
     "name": "stdout",
     "output_type": "stream",
     "text": [
      "MY NAME IS FAHAD. THE MEANING OF MY NAME IS TIGER.\n"
     ]
    }
   ],
   "source": [
    "#upper: Changes the case of the string to upper.\n",
    "\n",
    "my_Name = \"My name is Fahad. The meaning of my name is tiger.\"\n",
    "print(my_Name.upper())"
   ]
  },
  {
   "cell_type": "code",
   "execution_count": 36,
   "metadata": {},
   "outputs": [
    {
     "name": "stdout",
     "output_type": "stream",
     "text": [
      "00000000000000000000000000000000000000000000000000My name is Fahad. The meaning of my name is tiger.\n"
     ]
    }
   ],
   "source": [
    "# zfill: Returns a copy of the string with '0' characters padded to the left\n",
    "\n",
    "my_Name = \"My name is Fahad. The meaning of my name is tiger.\"\n",
    "print(my_Name.zfill(100))\n"
   ]
  },
  {
   "cell_type": "code",
   "execution_count": null,
   "metadata": {},
   "outputs": [],
   "source": []
  }
 ],
 "metadata": {
  "kernelspec": {
   "display_name": "Python 3",
   "language": "python",
   "name": "python3"
  },
  "language_info": {
   "codemirror_mode": {
    "name": "ipython",
    "version": 3
   },
   "file_extension": ".py",
   "mimetype": "text/x-python",
   "name": "python",
   "nbconvert_exporter": "python",
   "pygments_lexer": "ipython3",
   "version": "3.6.7"
  }
 },
 "nbformat": 4,
 "nbformat_minor": 2
}
